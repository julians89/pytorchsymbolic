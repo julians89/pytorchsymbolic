{
 "cells": [
  {
   "cell_type": "code",
   "execution_count": 1,
   "metadata": {},
   "outputs": [
    {
     "name": "stdout",
     "output_type": "stream",
     "text": [
      "0.5*exp(-0.5*(sigma_d**2*(mu_fa - atan(2*((x_lm - x_sp)*sin(yaw_sp) + (-y_lm + y_sp)*cos(yaw_sp))*cos(yaw_sp)/(2*(-x_lm + x_sp)*cos(yaw_sp)**2 + (-y_lm + y_sp)*sin(2*yaw_sp))))**2 + sigma_fa**2*(mu_d - sqrt(x_lm**2 - 2*x_lm*x_sp + x_sp**2 + y_lm**2 - 2*y_lm*y_sp + y_sp**2))**2)/(sigma_d**2*sigma_fa**2))/(pi*sigma_d*sigma_fa*Abs(sqrt(x_lm**2 - 2*x_lm*x_sp + x_sp**2 + y_lm**2 - 2*y_lm*y_sp + y_sp**2)))\n"
     ]
    }
   ],
   "source": [
    "from example import f_m_func\n",
    "import copy\n",
    "\n",
    "f_m = f_m_func()\n",
    "print(f_m)\n",
    "\n",
    "#f_m is a function for a specific measurement, which connects *_sp sensor pose with land mark observaion *_lm"
   ]
  },
  {
   "cell_type": "code",
   "execution_count": 3,
   "metadata": {},
   "outputs": [
    {
     "name": "stdout",
     "output_type": "stream",
     "text": [
      "0.5*exp(-0.5*(sigma_d**2*(mu_fa_1 - atan(2*((x_lm_1 - x_sp_0)*sin(yaw_sp_0) + (-y_lm_1 + y_sp_0)*cos(yaw_sp_0))*cos(yaw_sp_0)/(2*(-x_lm_1 + x_sp_0)*cos(yaw_sp_0)**2 + (-y_lm_1 + y_sp_0)*sin(2*yaw_sp_0))))**2 + sigma_fa**2*(mu_d_1 - sqrt(x_lm_1**2 - 2*x_lm_1*x_sp_0 + x_sp_0**2 + y_lm_1**2 - 2*y_lm_1*y_sp_0 + y_sp_0**2))**2)/(sigma_d**2*sigma_fa**2))/(pi*sigma_d*sigma_fa*Abs(sqrt(x_lm_1**2 - 2*x_lm_1*x_sp_0 + x_sp_0**2 + y_lm_1**2 - 2*y_lm_1*y_sp_0 + y_sp_0**2)))\n"
     ]
    }
   ],
   "source": [
    "def eq_factory(eq, syms, idx):\n",
    "   \"\"\"\n",
    "   given eq, we create count eqs\n",
    "   \"\"\"\n",
    "\n",
    "   out = []\n",
    "   for i in idx:\n",
    "        _eq = copy.deepcopy(eq)\n",
    "        for s in syms:\n",
    "            _eq = _eq.subs(s, s+'_'+str(i))\n",
    "        out.append(_eq)\n",
    "\n",
    "   return out\n",
    "\n",
    "def unify_eqs(eqs, syms):\n",
    "    _eqs = []\n",
    "    for i, eq in enumerate(eqs):\n",
    "        for s in syms:\n",
    "            eq = eq.subs(s, s + '_' + str(i))\n",
    "    \n",
    "        _eqs.append(eq)\n",
    "    return _eqs\n",
    "\n",
    "#we have observation from 2 distinct sensor poses\n",
    "sp0, sp1 = eq_factory(f_m, ['x_sp', 'y_sp', 'yaw_sp'], idx=range(2))\n",
    "\n",
    "#sensor pose 0 observes landmark 0 - 2\n",
    "sp0 = eq_factory(sp0, ['x_lm', 'y_lm'], idx=range(3))\n",
    "\n",
    "#sensor pose 1 observes landmark 0 - 2\n",
    "sp1 = eq_factory(sp1, ['x_lm', 'y_lm'], idx=range(3))\n",
    "\n",
    "#make each uq a unique measurement\n",
    "eqs = unify_eqs(sp0 + sp1, syms=['mu_fa', 'mu_d'])\n",
    "\n",
    "print (eqs[1])"
   ]
  },
  {
   "cell_type": "code",
   "execution_count": null,
   "metadata": {},
   "outputs": [],
   "source": [
    "#Randomly generate a map and robot\n",
    "#def random_map(num_landmarks, num_robot_poses, min, max):\n",
    "#    for l in range(num_landmarks):"
   ]
  },
  {
   "cell_type": "code",
   "execution_count": 30,
   "metadata": {},
   "outputs": [
    {
     "data": {
      "text/plain": [
       "tensor([6.3380e-35, 2.7369e-31, 1.3359e-39, 0.0000e+00, 3.8044e-28, 2.9553e-42],\n",
       "       grad_fn=<StackBackward0>)"
      ]
     },
     "execution_count": 30,
     "metadata": {},
     "output_type": "execute_result"
    }
   ],
   "source": [
    "import os\n",
    "parentdir = os.path.dirname(os.path.dirname(os.path.abspath('')))\n",
    "parentdir = os.path.dirname(os.path.dirname(parentdir))\n",
    "os.sys.path.insert(0, parentdir) \n",
    "\n",
    "from equations.methodology.pytorchsymbolic.sympytorch import SymPyModule\n",
    "import numpy as np\n",
    "\n",
    "#initialize randomly\n",
    "init_vals = {\n",
    "    'x_lm_0': np.random.rand(),\n",
    "    'y_lm_0': np.random.rand(),\n",
    "    'x_lm_1': np.random.rand(),\n",
    "    'y_lm_1': np.random.rand(),\n",
    "    'x_lm_2': np.random.rand(),\n",
    "    'y_lm_2': np.random.rand(),\n",
    "\n",
    "    'x_sp_0': np.random.rand(),\n",
    "    'y_sp_0': np.random.rand(),\n",
    "    'yaw_sp_0': np.random.rand(),\n",
    "    'x_sp_1': np.random.rand(),\n",
    "    'y_sp_1': np.random.rand(),\n",
    "    'yaw_sp_1': np.random.rand(),\n",
    "}\n",
    "\n",
    "sm = SymPyModule(eqs, init_vals=init_vals)\n",
    "sm(mu_fa_0=3./4.*np.pi, mu_d_0=10, \n",
    "   mu_fa_1=0, mu_d_1=0, \n",
    "   mu_fa_2=0, mu_d_2=0, \n",
    "   mu_fa_3=0, mu_d_3=0, \n",
    "   mu_fa_4=0, mu_d_4=0, \n",
    "   mu_fa_5=0, mu_d_5=0, \n",
    "   sigma_d=0.1, sigma_fa=0.1)"
   ]
  }
 ],
 "metadata": {
  "kernelspec": {
   "display_name": "diss_tex",
   "language": "python",
   "name": "python3"
  },
  "language_info": {
   "codemirror_mode": {
    "name": "ipython",
    "version": 3
   },
   "file_extension": ".py",
   "mimetype": "text/x-python",
   "name": "python",
   "nbconvert_exporter": "python",
   "pygments_lexer": "ipython3",
   "version": "3.8.0"
  },
  "orig_nbformat": 4,
  "vscode": {
   "interpreter": {
    "hash": "dcca102db58277706a0ba0049c18d4b569ccb9fd6b6dbad98ed85b65ec429b20"
   }
  }
 },
 "nbformat": 4,
 "nbformat_minor": 2
}
