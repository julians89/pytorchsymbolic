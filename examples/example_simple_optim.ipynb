{
 "cells": [
  {
   "cell_type": "code",
   "execution_count": 2,
   "metadata": {},
   "outputs": [
    {
     "name": "stdout",
     "output_type": "stream",
     "text": [
      "-log(sigma_d) - log(sigma_fa) - log(x_lm**2 - 2*x_lm*x_sp + x_sp**2 + y_lm**2 - 2*y_lm*y_sp + y_sp**2)/2 - log(pi) - 0.693147180559946 - 0.5*(sigma_d**2*(mu_fa - atan2((-x_lm + x_sp)*sin(yaw_sp) + (y_lm - y_sp)*cos(yaw_sp), (2*(x_lm - x_sp)*cos(yaw_sp)**2 + (y_lm - y_sp)*sin(2*yaw_sp))/(2*cos(yaw_sp))))**2 + sigma_fa**2*(mu_d - sqrt(x_lm**2 - 2*x_lm*x_sp + x_sp**2 + y_lm**2 - 2*y_lm*y_sp + y_sp**2))**2)/(sigma_d**2*sigma_fa**2)\n"
     ]
    }
   ],
   "source": [
    "from example import f_m_func\n",
    "\n",
    "f_m = f_m_func()\n",
    "print(f_m)\n",
    "\n",
    "#f_m is a function for a specific measurement, which connects *_sp sensor pose with land mark observaion *_lm"
   ]
  },
  {
   "cell_type": "code",
   "execution_count": 9,
   "metadata": {},
   "outputs": [
    {
     "name": "stdout",
     "output_type": "stream",
     "text": [
      "tensor(671.3150, grad_fn=<NegBackward0>)\n",
      "tensor(430.4528, grad_fn=<NegBackward0>)\n",
      "tensor(277.3922, grad_fn=<NegBackward0>)\n",
      "tensor(179.1970, grad_fn=<NegBackward0>)\n",
      "tensor(115.9901, grad_fn=<NegBackward0>)\n",
      "tensor(75.2064, grad_fn=<NegBackward0>)\n",
      "tensor(48.8281, grad_fn=<NegBackward0>)\n",
      "tensor(31.7212, grad_fn=<NegBackward0>)\n",
      "tensor(20.5923, grad_fn=<NegBackward0>)\n",
      "tensor(13.3255, grad_fn=<NegBackward0>)\n",
      "tensor(8.5597, grad_fn=<NegBackward0>)\n",
      "tensor(5.4180, grad_fn=<NegBackward0>)\n",
      "tensor(3.3344, grad_fn=<NegBackward0>)\n",
      "tensor(1.9429, grad_fn=<NegBackward0>)\n",
      "tensor(1.0062, grad_fn=<NegBackward0>)\n",
      "tensor(0.3699, grad_fn=<NegBackward0>)\n",
      "tensor(-0.0665, grad_fn=<NegBackward0>)\n",
      "tensor(-0.3690, grad_fn=<NegBackward0>)\n",
      "tensor(-0.5811, grad_fn=<NegBackward0>)\n",
      "tensor(-0.7316, grad_fn=<NegBackward0>)\n",
      "tensor(-0.8396, grad_fn=<NegBackward0>)\n",
      "tensor(-0.9180, grad_fn=<NegBackward0>)\n",
      "tensor(-0.9756, grad_fn=<NegBackward0>)\n",
      "tensor(-1.0183, grad_fn=<NegBackward0>)\n",
      "tensor(-1.0504, grad_fn=<NegBackward0>)\n",
      "tensor(-1.0746, grad_fn=<NegBackward0>)\n",
      "tensor(-1.0931, grad_fn=<NegBackward0>)\n",
      "tensor(-1.1073, grad_fn=<NegBackward0>)\n",
      "tensor(-1.1183, grad_fn=<NegBackward0>)\n",
      "tensor(-1.1268, grad_fn=<NegBackward0>)\n",
      "tensor(-1.1334, grad_fn=<NegBackward0>)\n",
      "tensor(-1.1386, grad_fn=<NegBackward0>)\n",
      "tensor(-1.1427, grad_fn=<NegBackward0>)\n",
      "tensor(-1.1459, grad_fn=<NegBackward0>)\n",
      "tensor(-1.1484, grad_fn=<NegBackward0>)\n",
      "tensor(-1.1504, grad_fn=<NegBackward0>)\n",
      "tensor(-1.1520, grad_fn=<NegBackward0>)\n",
      "tensor(-1.1532, grad_fn=<NegBackward0>)\n",
      "tensor(-1.1542, grad_fn=<NegBackward0>)\n",
      "tensor(-1.1550, grad_fn=<NegBackward0>)\n",
      "tensor(-1.1556, grad_fn=<NegBackward0>)\n",
      "tensor(-1.1561, grad_fn=<NegBackward0>)\n",
      "tensor(-1.1565, grad_fn=<NegBackward0>)\n",
      "tensor(-1.1568, grad_fn=<NegBackward0>)\n",
      "tensor(-1.1571, grad_fn=<NegBackward0>)\n",
      "tensor(-1.1573, grad_fn=<NegBackward0>)\n",
      "tensor(-1.1574, grad_fn=<NegBackward0>)\n",
      "tensor(-1.1576, grad_fn=<NegBackward0>)\n",
      "tensor(-1.1577, grad_fn=<NegBackward0>)\n",
      "tensor(-1.1577, grad_fn=<NegBackward0>)\n",
      "_nodes.0._args.4._args.1._args.0._args.0._args.0.x_lm Parameter containing:\n",
      "tensor(2.4924, requires_grad=True)\n",
      "_nodes.0._args.4._args.1._args.0._args.1._args.0.x_sp Parameter containing:\n",
      "tensor(-1.4924, requires_grad=True)\n",
      "_nodes.0._args.4._args.1._args.0._args.2._args.0.y_lm Parameter containing:\n",
      "tensor(2.0084, requires_grad=True)\n",
      "_nodes.0._args.4._args.1._args.0._args.3._args.0.y_sp Parameter containing:\n",
      "tensor(-1.0084, requires_grad=True)\n",
      "_nodes.0._args.5._args.3._args.0._args.1._args.0._args.1._args.1._args.0._args.0._args.1._args.0.yaw_sp Parameter containing:\n",
      "tensor(0.6458, requires_grad=True)\n"
     ]
    }
   ],
   "source": [
    "import numpy as np\n",
    "import os\n",
    "parentdir = os.path.dirname(os.path.dirname(os.path.abspath('')))\n",
    "parentdir = os.path.dirname(os.path.dirname(parentdir))\n",
    "os.sys.path.insert(0, parentdir) \n",
    "from equations.methodology.pytorchsymbolic.sympytorch import SymPyModule\n",
    "import torch\n",
    "\n",
    "import matplotlib.pyplot as plt\n",
    "\n",
    "init_vals = {\n",
    "    'x_sp': 0,\n",
    "    'y_sp': 0,\n",
    "    'yaw_sp': 0,\n",
    "\n",
    "    'x_lm': 1.,\n",
    "    'y_lm': 1.\n",
    "}\n",
    "\n",
    "sm = SymPyModule([f_m], init_vals=init_vals)\n",
    "\n",
    "x, y = np.mgrid[0:6:0.01, -2:2:0.01]\n",
    "\n",
    "\n",
    "optimizer = torch.optim.SGD(sm.parameters(), lr=1e-3)\n",
    "\n",
    "for i in range(100):\n",
    "    optimizer.zero_grad()\n",
    "\n",
    "    log_p = sm(mu_fa=torch.Tensor([0.]), sigma_fa=torch.Tensor([0.1]), mu_d=torch.Tensor([5.]), sigma_d=torch.Tensor([0.1]))\n",
    "\n",
    "    loss = -log_p.mean()\n",
    "\n",
    "    print (loss)\n",
    "\n",
    "    loss.backward()\n",
    "    optimizer.step()\n",
    "\n",
    "for name, param in sm.named_parameters():\n",
    "    print (name, param)\n",
    "\n"
   ]
  }
 ],
 "metadata": {
  "kernelspec": {
   "display_name": "diss_tex",
   "language": "python",
   "name": "python3"
  },
  "language_info": {
   "codemirror_mode": {
    "name": "ipython",
    "version": 3
   },
   "file_extension": ".py",
   "mimetype": "text/x-python",
   "name": "python",
   "nbconvert_exporter": "python",
   "pygments_lexer": "ipython3",
   "version": "3.8.0"
  },
  "orig_nbformat": 4,
  "vscode": {
   "interpreter": {
    "hash": "dcca102db58277706a0ba0049c18d4b569ccb9fd6b6dbad98ed85b65ec429b20"
   }
  }
 },
 "nbformat": 4,
 "nbformat_minor": 2
}
